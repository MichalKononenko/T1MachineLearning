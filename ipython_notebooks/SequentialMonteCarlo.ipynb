{
 "cells": [
  {
   "cell_type": "code",
   "execution_count": 1,
   "metadata": {
    "collapsed": false
   },
   "outputs": [],
   "source": [
    "%matplotlib inline\n",
    "import os\n",
    "\n",
    "working_directory = os.path.pardir\n",
    "\n",
    "import sys\n",
    "sys.path.insert(0, working_directory)\n",
    "\n",
    "from models import smc\n",
    "import matplotlib.pyplot as plt\n",
    "import numpy as np\n",
    "import logging"
   ]
  },
  {
   "cell_type": "code",
   "execution_count": 2,
   "metadata": {
    "collapsed": false
   },
   "outputs": [],
   "source": [
    "log = logging.getLogger(__name__)\n",
    "log.setLevel(logging.DEBUG)"
   ]
  },
  {
   "cell_type": "code",
   "execution_count": 3,
   "metadata": {
    "collapsed": true
   },
   "outputs": [],
   "source": [
    "true_t1 = 2.5\n",
    "noise = smc.GaussianDistribution(standard_deviation=2)"
   ]
  },
  {
   "cell_type": "code",
   "execution_count": 4,
   "metadata": {
    "collapsed": false
   },
   "outputs": [],
   "source": [
    "model = smc.T1Model(true_t1, noise=noise)"
   ]
  },
  {
   "cell_type": "code",
   "execution_count": 5,
   "metadata": {
    "collapsed": false
   },
   "outputs": [],
   "source": [
    "parameter_space = np.linspace(2, 3, 1000)"
   ]
  },
  {
   "cell_type": "code",
   "execution_count": 6,
   "metadata": {
    "collapsed": true
   },
   "outputs": [],
   "source": [
    "prior = np.ones(1000) / sum(np.ones(1000))"
   ]
  },
  {
   "cell_type": "code",
   "execution_count": 7,
   "metadata": {
    "collapsed": false
   },
   "outputs": [],
   "source": [
    "simulator = smc.SequentialMonteCarlo(model, parameter_space, prior, number_of_iterations=20)"
   ]
  },
  {
   "cell_type": "code",
   "execution_count": 8,
   "metadata": {
    "collapsed": false
   },
   "outputs": [
    {
     "name": "stderr",
     "output_type": "stream",
     "text": [
      "INFO:models.smc:Iteration 1/20\n",
      "INFO:models.smc:Experiment 1 conducted, measurement returned 0.527420\n",
      "INFO:models.smc:Iteration 2/20\n",
      "INFO:models.smc:Experiment 2 conducted, measurement returned 0.527420\n",
      "INFO:models.smc:Iteration 3/20\n",
      "INFO:models.smc:Experiment 3 conducted, measurement returned 0.527420\n",
      "INFO:models.smc:Iteration 4/20\n",
      "INFO:models.smc:Experiment 4 conducted, measurement returned 0.527420\n",
      "INFO:models.smc:Iteration 5/20\n",
      "INFO:models.smc:Experiment 5 conducted, measurement returned 0.527420\n",
      "INFO:models.smc:Iteration 6/20\n",
      "INFO:models.smc:Experiment 6 conducted, measurement returned 0.527420\n",
      "INFO:models.smc:Iteration 7/20\n",
      "INFO:models.smc:Experiment 7 conducted, measurement returned 0.527420\n",
      "INFO:models.smc:Iteration 8/20\n",
      "INFO:models.smc:Experiment 8 conducted, measurement returned 0.527420\n",
      "INFO:models.smc:Iteration 9/20\n",
      "INFO:models.smc:Experiment 9 conducted, measurement returned 0.527420\n",
      "INFO:models.smc:Iteration 10/20\n",
      "INFO:models.smc:Experiment 10 conducted, measurement returned 0.527420\n",
      "INFO:models.smc:Iteration 11/20\n",
      "INFO:models.smc:Experiment 11 conducted, measurement returned 0.527420\n",
      "INFO:models.smc:Iteration 12/20\n",
      "INFO:models.smc:Experiment 12 conducted, measurement returned 0.527420\n",
      "INFO:models.smc:Iteration 13/20\n",
      "INFO:models.smc:Experiment 13 conducted, measurement returned 0.527420\n",
      "INFO:models.smc:Iteration 14/20\n",
      "INFO:models.smc:Experiment 14 conducted, measurement returned 0.527420\n",
      "INFO:models.smc:Iteration 15/20\n",
      "INFO:models.smc:Experiment 15 conducted, measurement returned 0.527420\n",
      "INFO:models.smc:Iteration 16/20\n",
      "INFO:models.smc:Experiment 16 conducted, measurement returned 0.527420\n",
      "INFO:models.smc:Iteration 17/20\n",
      "INFO:models.smc:Experiment 17 conducted, measurement returned 0.527420\n",
      "INFO:models.smc:Iteration 18/20\n",
      "INFO:models.smc:Experiment 18 conducted, measurement returned 0.527420\n",
      "INFO:models.smc:Iteration 19/20\n",
      "INFO:models.smc:Experiment 19 conducted, measurement returned 0.527420\n",
      "INFO:models.smc:Iteration 20/20\n",
      "INFO:models.smc:Experiment 20 conducted, measurement returned 0.527420\n"
     ]
    }
   ],
   "source": [
    "weights = [weight for weight in simulator]"
   ]
  },
  {
   "cell_type": "code",
   "execution_count": 9,
   "metadata": {
    "collapsed": false
   },
   "outputs": [
    {
     "data": {
      "image/png": "[encoded data removed]",
      "text/plain": [
       "<matplotlib.figure.Figure at 0x7d77358>"
      ]
     },
     "metadata": {},
     "output_type": "display_data"
    }
   ],
   "source": [
    "plt.plot(parameter_space, weights[0].weights)\n",
    "plt.show()"
   ]
  },
  {
   "cell_type": "code",
   "execution_count": null,
   "metadata": {
    "collapsed": false
   },
   "outputs": [],
   "source": [
    "prior"
   ]
  },
  {
   "cell_type": "code",
   "execution_count": null,
   "metadata": {
    "collapsed": false
   },
   "outputs": [],
   "source": [
    "weights[1].weights"
   ]
  },
  {
   "cell_type": "code",
   "execution_count": null,
   "metadata": {
    "collapsed": true
   },
   "outputs": [],
   "source": []
  }
 ],
 "metadata": {
  "kernelspec": {
   "display_name": "Python 3",
   "language": "python",
   "name": "python3"
  },
  "language_info": {
   "codemirror_mode": {
    "name": "ipython",
    "version": 3
   },
   "file_extension": ".py",
   "mimetype": "text/x-python",
   "name": "python",
   "nbconvert_exporter": "python",
   "pygments_lexer": "ipython3",
   "version": "3.4.3"
  }
 },
 "nbformat": 4,
 "nbformat_minor": 0
}
