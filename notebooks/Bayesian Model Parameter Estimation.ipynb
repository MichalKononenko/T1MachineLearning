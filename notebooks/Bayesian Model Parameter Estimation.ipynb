{
 "cells": [
  {
   "cell_type": "code",
   "execution_count": 3,
   "metadata": {
    "collapsed": true
   },
   "outputs": [],
   "source": [
    "%matplotlib inline\n",
    "\n",
    "from __future__ import division\n",
    "import matplotlib\n",
    "import numpy as np\n",
    "import matplotlib.pyplot as plt\n",
    "from abc import ABCMeta, abstractmethod,abstractproperty"
   ]
  },
  {
   "cell_type": "code",
   "execution_count": 20,
   "metadata": {
    "collapsed": false
   },
   "outputs": [],
   "source": [
    "class AbstractSystemModel(object):\n",
    "    __metaclass__ = ABCMeta\n",
    "    \n",
    "    \n",
    "    \n",
    "    @abstractmethod\n",
    "    def evaluate_model(self,data,scaling_parameters,system_parameters):\n",
    "        pass\n",
    "    \n",
    "\n",
    "\n",
    "class OrthonormalizableSystemModel(AbstractSystemModel):\n",
    "    \n",
    "    @abstractmethod\n",
    "    def orthonormalize(self,data):\n",
    "        \"\"\"\n",
    "        return orthonormalized model\n",
    "        \"\"\"\n",
    "        pass\n",
    "    \n",
    "  "
   ]
  },
  {
   "cell_type": "code",
   "execution_count": 14,
   "metadata": {
    "collapsed": false
   },
   "outputs": [],
   "source": [
    "class AbstractDistribution(object):\n",
    "    __metaclass__ = ABCMeta\n",
    "    \n",
    "    @abstractproperty \n",
    "    def scaling_parameters(self):\n",
    "        pass\n",
    "    \n",
    "    @abstractproperty\n",
    "    def noise_parameters(self):\n",
    "        pass\n",
    "    \n",
    "    @abstractproperty\n",
    "    def system_parameters(self):\n",
    "        pass\n",
    "    \n",
    "    @abstractproperty\n",
    "    def distribution_type(self):\n",
    "        \"\"\"\n",
    "        eg. Matrix, function or point-like for now\n",
    "        \"\"\"\n",
    "        pass\n",
    "    \n",
    "    @abstractproperty\n",
    "    def distribution_representation(self):\n",
    "        \"\"\"\n",
    "        returns the representation of the distribution. If a matrix return the matrix, if a function return the function, \n",
    "        if a point-like return the list of points. \n",
    "        \"\"\"\n",
    "        pass\n",
    "    \n",
    "    @abstractmethod\n",
    "    def maximum_value(self):\n",
    "        \"\"\"\n",
    "        return the maximal value of the distribution\n",
    "        \"\"\"\n",
    "        pass\n",
    "    \n",
    "    @abstractmethod\n",
    "    def normalize(self):\n",
    "        \"\"\"\n",
    "        Normalize the distribution\n",
    "        \"\"\"\n",
    "        pass\n",
    "    "
   ]
  },
  {
   "cell_type": "code",
   "execution_count": 18,
   "metadata": {
    "collapsed": false
   },
   "outputs": [],
   "source": [
    "class AbstractParameterEstimator(object):\n",
    "    __metaclass__ = ABCMeta\n",
    "    \n",
    "    @abstractproperty\n",
    "    def system_model(self):\n",
    "        pass\n",
    "    \n",
    "    @abstractproperty\n",
    "    def initial_prior(self):\n",
    "        pass\n",
    "    \n",
    "    @abstractproperty \n",
    "    def previous_prior(self):\n",
    "        pass\n",
    "    \n",
    "    @abstractproperty \n",
    "    def likelihood_distribution(self):\n",
    "        pass\n",
    "    \n",
    "    @abstractmethod \n",
    "    def likelihood(self,data,scaling_parameters,system_parameters):\n",
    "        \"\"\"\n",
    "        data should be a Nxm array, where N is the number of data samples, and m is the number of values per sample\n",
    "        \"\"\"\n",
    "        pass\n",
    "    \n",
    "    @abstractmethod\n",
    "    def expected_scaling_parameters(self):\n",
    "        pass\n",
    "    \n",
    "    @abstractmethod \n",
    "    def expected_system_parameters(self):\n",
    "        pass\n",
    "    \n",
    "    @abstractmethod\n",
    "    def expected_noise_parameters(self):\n",
    "        pass\n",
    "    \n",
    "    @abstractmethod\n",
    "    def add_data(self,data):\n",
    "        \"\"\"\n",
    "        Account for new information (data) and update likelihoods/ distributions\n",
    "        \"\"\"\n",
    "        pass\n",
    "    \n",
    "    @abstractmethod\n",
    "    def simulate_data(self,scaling_parameters,system_parameters,noise_parameters):\n",
    "        pass\n",
    "    \n",
    "    "
   ]
  },
  {
   "cell_type": "code",
   "execution_count": null,
   "metadata": {
    "collapsed": true
   },
   "outputs": [],
   "source": []
  }
 ],
 "metadata": {
  "kernelspec": {
   "display_name": "Python 2",
   "language": "python",
   "name": "python2"
  },
  "language_info": {
   "codemirror_mode": {
    "name": "ipython",
    "version": 2
   },
   "file_extension": ".py",
   "mimetype": "text/x-python",
   "name": "python",
   "nbconvert_exporter": "python",
   "pygments_lexer": "ipython2",
   "version": "2.7.10"
  }
 },
 "nbformat": 4,
 "nbformat_minor": 0
}
