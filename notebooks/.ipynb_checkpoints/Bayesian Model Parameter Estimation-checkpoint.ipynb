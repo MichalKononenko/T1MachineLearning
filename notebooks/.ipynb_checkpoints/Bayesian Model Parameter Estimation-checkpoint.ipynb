{
 "cells": [
  {
   "cell_type": "code",
   "execution_count": 248,
   "metadata": {
    "collapsed": false
   },
   "outputs": [],
   "source": [
    "%matplotlib inline\n",
    "\n",
    "from __future__ import division\n",
    "import matplotlib\n",
    "import numpy as np\n",
    "import matplotlib.pyplot as plt\n",
    "import pdb\n",
    "from abc import ABCMeta, abstractmethod,abstractproperty\n",
    "from scipy.optimize import curve_fit"
   ]
  },
  {
   "cell_type": "code",
   "execution_count": 230,
   "metadata": {
    "collapsed": false
   },
   "outputs": [],
   "source": [
    "from types import FunctionType \n",
    "\n",
    "class AbstractSystemModel(object):\n",
    "    __metaclass__ = ABCMeta\n",
    "    \n",
    "    \n",
    "        \n",
    "    \n",
    "    @abstractmethod\n",
    "    def evaluate_model(self,t,scaling_parameters,system_parameters):\n",
    "        \"\"\"\n",
    "        Evaluate the model for a given set of times, scaling parameters, and system parameters\n",
    "        \n",
    "        Args:\n",
    "            t (np.array): array of times of length N\n",
    "            scaling_parameters (np.array): An array of length kxm where k is the number of different \n",
    "                                        sets of scaling parameters to be evaluated, and each column of\n",
    "                                        length m are the scaling parameters. \n",
    "                                        \n",
    "            system_parameters (np.array): An array of length kxn where k is the number of different \n",
    "                                        sets of system parameters to be evaluated, and each column of\n",
    "                                        length n are the system parameters. \n",
    "                                        \n",
    "        Returns:\n",
    "            np.array : An array of evaluate models for each time point of dimensions Nxl where l depends\n",
    "                        on if there are multiple outputs for a model (ie. two channels on an NMR spectrometer)\n",
    "                    \n",
    "        \"\"\"\n",
    "        pass\n",
    "\n",
    "    \n",
    "    \n"
   ]
  },
  {
   "cell_type": "code",
   "execution_count": 231,
   "metadata": {
    "collapsed": true
   },
   "outputs": [],
   "source": [
    "class OrthonormalizableSystemModel(AbstractSystemModel):\n",
    "    \n",
    "    #@abstractmethod\n",
    "    #def orthonormalize(self,data):\n",
    "    #    \"\"\"\n",
    "    #   return orthonormalized model\n",
    "    #   \"\"\"\n",
    "        \n",
    "        \n",
    "        pass"
   ]
  },
  {
   "cell_type": "code",
   "execution_count": 232,
   "metadata": {
    "collapsed": false
   },
   "outputs": [],
   "source": [
    "class AbstractNoiseModel(object):\n",
    "    __metaclass__ = ABCMeta\n",
    "    \n",
    "    @abstractmethod\n",
    "    def add_noise(self,data):\n",
    "        pass\n",
    "\n",
    "class GaussianNoiseModel(AbstractNoiseModel):\n",
    "    \n",
    "    def __init__(self,sigma,offset):\n",
    "        self.sigma = sigma\n",
    "        self.offset = offset\n",
    "    \n",
    "    def add_noise(self,data):\n",
    "        return data+np.random.normal(self.offset,self.sigma,data.shape)\n",
    "\n"
   ]
  },
  {
   "cell_type": "code",
   "execution_count": 233,
   "metadata": {
    "collapsed": false
   },
   "outputs": [],
   "source": [
    "from numpy.core.umath_tests import inner1d\n",
    "\n",
    "class GenericConvexCombinationModel(OrthonormalizableSystemModel):\n",
    "    \n",
    "    def __init__(self,scaling_parameters,system_parameters,model_functions,noise_rms = None,parameter_dtype = np.float32):\n",
    "        \"\"\"\n",
    "        Initialize model of the form  :math:`f(t)= \\sum \\limits_i^N B_i*G_i(t,{\\omega})`\n",
    "        where :math:`{B}` are the scaling parameters, :math:`{\\omega}` are the model parameters,\n",
    "        and  :math:`{G(t,{\\omega})}` are the model functions (python functions).\n",
    "        \n",
    "        Args: \n",
    "            scaling_parameters (np.ndarray or int): A list of named strings for scaling parameters, or an integer\n",
    "                                              that specifies the number of scaling parameters.\n",
    "            system_parameters (np.ndarray or int): A list of named strings for system parameters, or an integer\n",
    "                                              that specifies the number of system parameters. \n",
    "            model_functions (np.ndarray): A list of functions that are of the the form f(t,*system_parameters)\n",
    "                                    Which will be used to build the model \n",
    "            \n",
    "        Kwargs:\n",
    "            parameter_dtype (np.dtype): Data type for the scaling parameters / system parameters\n",
    "            noise_rms (float or None): A value for the RMS noise of the sampling distribution. If is None,\n",
    "                                    it is assumed unknown, and the student-t distribution will be used (Jeffery's prior)\n",
    "                                    otherwise the noise_rms will be used.\n",
    "        \"\"\"\n",
    "        assert type(scaling_parameters) in [int,np.ndarray]\n",
    "        assert type(system_parameters) in [int,np.ndarray]\n",
    "        assert type(model_functions) in [list,np.ndarray]\n",
    "        assert np.all([type(x) is FunctionType for x in model_functions])\n",
    "        assert type(noise_rms) in [type(None),float]\n",
    "        \n",
    "        self._scaling_parameters = scaling_parameters if type(scaling_parameters) is np.ndarray \\\n",
    "                                    else np.arange(scaling_parameters)\n",
    "        self._system_parameters = system_parameters if type(system_parameters) is np.ndarray \\\n",
    "                                    else np.arange(system_parameters)\n",
    "        self._model_functions = np.asarray(model_functions)\n",
    "        \n",
    "        self._jefferys_prior = True if noise_rms is None else False\n",
    "        self._noise_rms = noise_rms\n",
    "    @property\n",
    "    def scaling_parameters(self):\n",
    "        return self._scaling_parameters\n",
    "\n",
    "    @property\n",
    "    def system_parameters(self):\n",
    "        return self._system_parameters\n",
    "    \n",
    "    @property \n",
    "    def model_functions(self):\n",
    "        return self._model_functions\n",
    "    \n",
    "    @property \n",
    "    def noise_rms(self):\n",
    "        return self._noise_rms\n",
    "    \n",
    "    @noise_rms.setter\n",
    "    def noise_rms(self,noise_rms):\n",
    "        assert type(noise_rms) in [NoneType,float]\n",
    "        self._jefferys_prior = True if noise_rms in [None,0] else False\n",
    "        self._noise_rms = noise_rms\n",
    "    \n",
    "    @property\n",
    "    def jefferys_prior(self):\n",
    "        return self._jefferys_prior\n",
    "    \n",
    "    @jefferys_prior.setter\n",
    "    def jefferys_prior(self,jefferys_prior):\n",
    "            assert type(jefferys_prior) is bool\n",
    "            self._jefferys_prior = jefferys_prior\n",
    "            self._noise_rms = None if jefferys_prior else self.noise_rms \n",
    "            \n",
    "    def evaluate_model_functions_list(self,t,system_parameters,model_funcs):\n",
    "        return np.array(map(lambda f: f(t,system_parameters),model_funcs))\n",
    "    \n",
    "    def evaluate_model(self,t,scaling_parameters,system_parameters):\n",
    "        \"\"\"\n",
    "        Evaluate the model for a given set of times, scaling parameters, and system parameters\n",
    "        \n",
    "        Args:\n",
    "            t (np.array): array of times of length 1xN\n",
    "            scaling_parameters (np.array): An array of length kxn where n is the number of different \n",
    "                                        sets of scaling parameters to be evaluated, and each column of\n",
    "                                        length k are the scaling parameters. \n",
    "                                        \n",
    "            system_parameters (np.array): An array of length kxn where k is the number of different \n",
    "                                        sets of system parameters to be evaluated, and each column of\n",
    "                                        length n are the system parameters. Each row therefore corresponds\n",
    "                                        to a numpy array of 1xn parameters and for a scalar function f(t,a,b,c)\n",
    "                                        the corresponding numpy function would be f(t,system_parameters) and \n",
    "                                        a = system_parameters[0],b= system_parameters[1], c = system_parameters[2] \n",
    "                                        and functions will be designed to operate arraywise on these 1XN arrays;\n",
    "                                        a,b,c.\n",
    "                                \n",
    "                                        \n",
    "        Returns:\n",
    "            np.array : An array of evaluate models for each time point of dimensions Nxl where l depends\n",
    "                        on if there are multiple outputs for a model (ie. two channels on an NMR spectrometer)\n",
    "                    \n",
    "        \"\"\"\n",
    "        \n",
    "        \n",
    "        return inner1d(np.transpose(scaling_parameters),\n",
    "                       np.transpose(self.evaluate_model_functions_list(t,system_parameters,self.model_functions)))\n",
    "    \n",
    "    def g_matrix(self,t,system_parameters):\n",
    "        \"\"\"\n",
    "        Generates the function correllation matrix g, where :math:`g_{jk}= \\sum \\limits_{i=1}^N G_j(t_i)G_k(t_i)` \n",
    "        \"\"\"\n",
    "        eval_model_funcs = self.evaluate_model_functions_list(t,system_parameters,self.model_functions)\n",
    "        return np.dot(eval_model_funcs,np.transpose(eval_model_funcs))\n",
    "    \n",
    "    def orthonormal_data_matrix(self,t,system_parameters):\n",
    "        \"\"\"\n",
    "        Generate the orthonormalization matrix that allows conversion of the non-orthonormal model functions to\n",
    "        orthonormal and viceversa :math:`O(g) = \\sum \\limits_{k=1}^m \\frac{1}{\\sqrt{\\lambda_j}} \\epsilon_j` where\n",
    "        :math:`\\lambda_j` are the eigenvalues of the matrix g, and :math:`\\epsilon_j` are the eigenvectors of \n",
    "        said matrix.         \n",
    "        \"\"\"\n",
    "        g_m = self.g_matrix(t,system_parameters)\n",
    "        evals,evecs = np.linalg.eig(g_m)\n",
    "        return np.transpose((1./np.sqrt(evals))*np.transpose(evecs))\n",
    "    \n",
    "    def orthonormal_functions(self,t,system_parameters):\n",
    "        ortho_matrix = self.orthonormal_data_matrix(t,system_parameters)\n",
    "        ortho_funcs = np.empty_like(self.model_functions)\n",
    "        \n",
    "        for i,r in enumerate(ortho_matrix):\n",
    "            ortho_funcs[i] = lambda t,s: np.dot(r,self.evaluate_model_functions_list(t,s,self.model_functions))\n",
    "        \n",
    "        return ortho_funcs\n",
    "        \n",
    "    \n",
    "    def recover_scaling_parameters(self,t,scaling_parameters,system_parameters):\n",
    "        g_m = self.g_matrix(self,t,system_parameters)\n",
    "        evals,evecs = np.linalg.eig(g_m)\n",
    "        return np.dot(np.transpose(system_parameters),np.transpose((1./np.sqrt(evals))*np.transpose(evecs)))\n",
    "    \n",
    "    def orthonormal_scaling_parameters(self,t,orthonormal_scaling_parameters,system_parameters):\n",
    "        g_m = self.g_matrix(self,t,system_parameters)\n",
    "        evals,evecs = np.linalg.eig(g_m)\n",
    "        return np.dot(np.transpose(system_parameters),np.sqrt(evals)*np.transpose(evecs))\n",
    "    \n",
    "    def test_orthonormality(self,t,system_parameters,error_tol = 0.1):\n",
    "        ortho_funcs = self.orthonormal_functions(t,system_parameters)\n",
    "        H_data = self.evaluate_model_functions_list(t,system_parameters,ortho_funcs)\n",
    "        ident_dist = np.linalg.norm(np.dot(H_data,np.transpose(H_data))-np.identity(len(ortho_funcs)))\n",
    "        return ident_dist<error_tol\n",
    "    \n",
    "    def data_function_projection(self,t,system_parameters,data,model_funcs):\n",
    "        \"\"\"\n",
    "        Evaluates the data projection matrix :math:`h_j = \\sum \\limits_{i=1}^N d_iH_j(t_i)`\n",
    "        \n",
    "        Args: \n",
    "            t (np.array): array of times of length 1xN\n",
    "                                        \n",
    "            system_parameters (np.array): An array of length kxN where k is the number of different \n",
    "                                        sets of system parameters to be evaluated, and each column of\n",
    "                                        length m are the system parameters. Each row therefore corresponds\n",
    "                                        to a numpy array of 1xN parameters and for a scalar function f(t,a,b,c)\n",
    "                                        the corresponding numpy function would be f(t,system_parameters) and \n",
    "                                        a = system_parameters[0],b= system_parameters[1], c = system_parameters[2] \n",
    "                                        and functions will be designed to operate arraywise on these 1XN arrays;\n",
    "                                        a,b,c.\n",
    "            data (np.array): array of data readings that correspond to time t of length 1xN\n",
    "            \n",
    "            model_funcs (np.array): array of model functions to project data onto\n",
    "        \n",
    "        Returns:\n",
    "            np.array : Return an array that describes the projection of the data onto the model functions. Where each element\n",
    "        of the returned array corresponds to the projection of the data onto the ith model function\n",
    "        \"\"\"\n",
    "        return np.transpose(np.sum(data*self.evaluate_model_functions_list(t,system_parameters,model_funcs),axis=1))\n",
    "    \n",
    "    def h_bar_squared(self,h):\n",
    "        \"\"\"\n",
    "        Evaluates the squared average data projection value over all model functions :math:`\\bar{h^2}= \\frac{1}{m}\\sum \n",
    "        \\limits_{j=1}^m h_j^2`\n",
    "        \"\"\"\n",
    "        return np.sum(h**2)/len(h)\n",
    "    \n",
    "    def d_bar_squared(self,data):\n",
    "        \"\"\"\n",
    "        Evaluates :math:`\\bar{d^2} = \\frac{1}{N}\\sum \\limits_{i=1}^N d_i^2`\n",
    "        \"\"\"\n",
    "        return np.sum(data**2)/len(data)\n",
    "    \n",
    "    def likelihood(self,t,system_parameters,data):\n",
    "        \"\"\"\n",
    "        Evaluates the likelihood function :math:`L(\\{\\omega\\},\\sigma)\\propto \\sigma^{-N+m}\\times \n",
    "        exp\\left\\(-\\frac{N\\bar{d^2}-m\\bar{h^2}}{2\\sigma^2}\\right\\)` if noise rms is none, otherwise calculates\n",
    "        the student-t distribution :math:`L({\\omega\\}) \\propto \\left[1-\\frac{m\\bar{h^2}}{N\\bar{d^2}\\right]^{\\frac{m-N}{2}}`\n",
    "        \n",
    "        Args:\n",
    "        system_parameters (np.array): A mxN numpy array of different system parameters to evaluate for. \n",
    "        \"\"\"\n",
    "        ortho_funcs = self.orthonormal_functions(t,system_parameters)\n",
    "        \n",
    "        data_projection = self.data_function_projection(t,system_parameters,data,ortho_funcs)\n",
    "        hsquarebar = self.h_bar_squared(data_projection)\n",
    "        dsquarebar = self.d_bar_squared(data)\n",
    "        \n",
    "        m = len(ortho_funcs)\n",
    "        N = len(data)\n",
    "        if not self.jefferys_prior:\n",
    "            \n",
    "            return np.exp(m*hsquarebar/(2*self.noise_rms))\n",
    "        else:\n",
    "            return np.power(1-(m*hsquarebar/(N*dsquarebar)),(m-N)/2)\n",
    "    \n",
    "    def simulate_noisy_data(self,t,true_scaling_parameters,true_system_parameters,noise_model=GaussianNoiseModel(0.1,0.)):\n",
    "        return noise_model.add_noise(self.evaluate_model(t,true_scaling_parameters,true_system_parameters))"
   ]
  },
  {
   "cell_type": "code",
   "execution_count": 234,
   "metadata": {
    "collapsed": false
   },
   "outputs": [],
   "source": [
    "class NFrequencyModel(GenericConvexCombinationModel):\n",
    "    \n",
    "    def __init__(self,num_frequencies=1,noise_rms=None):\n",
    "        self._num_frequencies = num_frequencies\n",
    "        scaling = np.array(map(lambda x:['Bsin{}'.format(x),'Bcos{}'.format(x)],np.arange(0,num_frequencies)))\\\n",
    "                .reshape(-1)\n",
    "        system = np.array(map(lambda x:'omega{}'.format(x),np.arange(0,num_frequencies)))\n",
    "        model_funcs = np.reshape(np.array(map(lambda x: [lambda t,s : np.cos(t*s[x]),lambda t,s : np.sin(t*s[x])],\n",
    "                                   np.arange(0,num_frequencies))),(-1))\n",
    "        \n",
    "                        \n",
    "        \n",
    "        super(NFrequencyModel,self).__init__(scaling,system,model_funcs,noise_rms=noise_rms)\n",
    "    \n",
    "    \n",
    "    def num_frequencies(self):\n",
    "        return self._num_frequencies"
   ]
  },
  {
   "cell_type": "code",
   "execution_count": 242,
   "metadata": {
    "collapsed": false
   },
   "outputs": [],
   "source": [
    "test_model = NFrequencyModel(1,0.5)\n",
    "test_tees = np.arange(0,10,0.01)\n",
    "true_system_parameters = np.array([10.])\n",
    "true_scaling_parameters = np.array([1.0,0.0])"
   ]
  },
  {
   "cell_type": "code",
   "execution_count": 261,
   "metadata": {
    "collapsed": false
   },
   "outputs": [
    {
     "data": {
      "text/plain": [
       "[<matplotlib.lines.Line2D at 0x7ff5b4697810>]"
      ]
     },
     "execution_count": 261,
     "metadata": {},
     "output_type": "execute_result"
    },
    {
     "data": {
      "image/png": "[encoded data removed]",
      "text/plain": [
       "<matplotlib.figure.Figure at 0x7ff5b48aaa90>"
      ]
     },
     "metadata": {},
     "output_type": "display_data"
    }
   ],
   "source": [
    "test_data = test_model.simulate_noisy_data(test_tees,true_scaling_parameters,true_system_parameters,GaussianNoiseModel(0.1,0.))\n",
    "plt.plot(test_tees,test_data)\n"
   ]
  },
  {
   "cell_type": "code",
   "execution_count": 263,
   "metadata": {
    "collapsed": false
   },
   "outputs": [
    {
     "name": "stderr",
     "output_type": "stream",
     "text": [
      "/home/ni/.virtualenvs/ni/lib/python2.7/site-packages/ipykernel/__main__.py:203: RuntimeWarning: overflow encountered in exp\n"
     ]
    },
    {
     "data": {
      "text/plain": [
       "[(array([ 6.]), 0.34908324647331823),\n",
       " (array([ 6.1]), 0.0004279400398971776),\n",
       " (array([ 6.2]), 0.00010948615458603455),\n",
       " (array([ 6.3]), 0.020915022271230637),\n",
       " (array([ 6.4]), 0.56002149203763918),\n",
       " (array([ 6.5]), 0.53254504429535487),\n",
       " (array([ 6.6]), 0.75051026795602693),\n",
       " (array([ 6.7]), 0.015917011000021134),\n",
       " (array([ 6.8]), 0.018476981090123079),\n",
       " (array([ 6.9]), 1.0308801695136703e-06),\n",
       " (array([ 7.]), 0.46960034445735466),\n",
       " (array([ 7.1]), 0.33289643522930051),\n",
       " (array([ 7.2]), 1.2023444431483679),\n",
       " (array([ 7.3]), 0.19255920467397417),\n",
       " (array([ 7.4]), 0.081798188639095534),\n",
       " (array([ 7.5]), 0.00017997239475194492),\n",
       " (array([ 7.6]), 0.72726217476427568),\n",
       " (array([ 7.7]), 2.1721193552728622),\n",
       " (array([ 7.8]), 2.9895734611749925),\n",
       " (array([ 7.9]), 1.0958274082288231),\n",
       " (array([ 8.]), 0.10755747897369787),\n",
       " (array([ 8.1]), 0.02517326938251252),\n",
       " (array([ 8.2]), 0.16537785765146709),\n",
       " (array([ 8.3]), 3.604860328166819),\n",
       " (array([ 8.4]), 3.8144220393085302),\n",
       " (array([ 8.5]), 4.7371108501902741),\n",
       " (array([ 8.6]), 0.093447501362708851),\n",
       " (array([ 8.7]), 0.10192579424392423),\n",
       " (array([ 8.8]), 0.14422227078651301),\n",
       " (array([ 8.9]), 7.3862202177589431),\n",
       " (array([ 9.]), 7.1317934898737185),\n",
       " (array([ 9.1]), 20.091744601274595),\n",
       " (array([ 9.2]), 2.5899051608245274),\n",
       " (array([ 9.3]), 2.9934308044147491),\n",
       " (array([ 9.4]), 0.0097153017420405132),\n",
       " (array([ 9.5]), 16.113319443159163),\n",
       " (array([ 9.6]), 12.919917423526574),\n",
       " (array([ 9.7]), 180.56734607237701),\n",
       " (array([ 9.8]), 139.44441465038588),\n",
       " (array([ 9.9]), 24.772499048214229),\n",
       " (array([10.]), 43.370563011601753),\n",
       " (array([ 10.1]), 157.40105654192715),\n",
       " (array([ 10.2]), inf),\n",
       " (array([ 10.3]), 156.160620550537),\n",
       " (array([ 10.4]), 72.618876154918993),\n",
       " (array([ 10.5]), 0.1400348133050433),\n",
       " (array([ 10.6]), 0.56599106908388996),\n",
       " (array([ 10.7]), 0.62580758130890324),\n",
       " (array([ 10.8]), 15.431724922720033),\n",
       " (array([ 10.9]), 10.848432357412806),\n",
       " (array([ 11.]), 17.090527916545778),\n",
       " (array([ 11.1]), 1.3344419650241273),\n",
       " (array([ 11.2]), 1.1074365217571804),\n",
       " (array([ 11.3]), 0.055108179747560659),\n",
       " (array([ 11.4]), 3.0416917325979584),\n",
       " (array([ 11.5]), 1.8472171306110348),\n",
       " (array([ 11.6]), 6.8377580261863837),\n",
       " (array([ 11.7]), 1.399025637220572),\n",
       " (array([ 11.8]), 0.81840992457458395),\n",
       " (array([ 11.9]), 0.00050248737562723377)]"
      ]
     },
     "execution_count": 263,
     "metadata": {},
     "output_type": "execute_result"
    },
    {
     "data": {
      "image/png": "[encoded data removed]",
      "text/plain": [
       "<matplotlib.figure.Figure at 0x7ff5b49c7850>"
      ]
     },
     "metadata": {},
     "output_type": "display_data"
    }
   ],
   "source": [
    "test_system_parameters = np.arange(6.0,12.0,0.1)[:,np.newaxis]\n",
    "\n",
    "likelihoods = np.log10(np.array([test_model.likelihood(test_tees,x,test_data) for x in test_system_parameters]))\n",
    "plt.plot(test_system_parameters,likelihoods)\n",
    "zip(test_system_parameters,likelihoods)"
   ]
  },
  {
   "cell_type": "code",
   "execution_count": 257,
   "metadata": {
    "collapsed": true
   },
   "outputs": [],
   "source": [
    "def f(x,w,A,B):\n",
    "    return A*np.cos(w*x)+B*np.sin(w*x)\n",
    "\n",
    "popt, pcov = curve_fit(f,test_tees,test_data,p0 = [8,1.0,0.0])"
   ]
  },
  {
   "cell_type": "code",
   "execution_count": 258,
   "metadata": {
    "collapsed": false
   },
   "outputs": [
    {
     "data": {
      "text/plain": [
       "array([ 7.84876394,  0.02359865, -0.09672485])"
      ]
     },
     "execution_count": 258,
     "metadata": {},
     "output_type": "execute_result"
    }
   ],
   "source": [
    "popt"
   ]
  },
  {
   "cell_type": "code",
   "execution_count": 259,
   "metadata": {
    "collapsed": false
   },
   "outputs": [
    {
     "data": {
      "text/plain": [
       "[<matplotlib.lines.Line2D at 0x7ff5b473e090>]"
      ]
     },
     "execution_count": 259,
     "metadata": {},
     "output_type": "execute_result"
    },
    {
     "data": {
      "image/png": "[encoded data removed]",
      "text/plain": [
       "<matplotlib.figure.Figure at 0x7ff5b487c8d0>"
      ]
     },
     "metadata": {},
     "output_type": "display_data"
    }
   ],
   "source": [
    "plt.plot(test_tees,f(test_tees,*popt))\n",
    "plt.plot(test_tees,f(test_tees,10,1.0,0.0))\n",
    "plt.plot(test_tees,test_data)"
   ]
  },
  {
   "cell_type": "code",
   "execution_count": null,
   "metadata": {
    "collapsed": false
   },
   "outputs": [],
   "source": [
    "class AbstractDistribution(object):\n",
    "    __metaclass__ = ABCMeta\n",
    "    \n",
    "    @abstractproperty \n",
    "    def scaling_parameters(self):\n",
    "        pass\n",
    "    \n",
    "    @abstractproperty\n",
    "    def noise_parameters(self):\n",
    "        pass\n",
    "    \n",
    "    @abstractproperty\n",
    "    def system_parameters(self):\n",
    "        pass\n",
    "    \n",
    "    @abstractproperty\n",
    "    def distribution_type(self):\n",
    "        \"\"\"\n",
    "        eg. Matrix, function or point-like for now\n",
    "        \"\"\"\n",
    "        pass\n",
    "    \n",
    "    @abstractproperty\n",
    "    def distribution_representation(self):\n",
    "        \"\"\"\n",
    "        returns the representation of the distribution. If a matrix return the matrix, if a function return the function, \n",
    "        if a point-like return the list of points. \n",
    "        \"\"\"\n",
    "        pass\n",
    "    \n",
    "    @abstractmethod\n",
    "    def maximum_value(self):\n",
    "        \"\"\"\n",
    "        return the maximal value of the distribution\n",
    "        \"\"\"\n",
    "        pass\n",
    "    \n",
    "    @abstractmethod\n",
    "    def normalize(self):\n",
    "        \"\"\"\n",
    "        Normalize the distribution\n",
    "        \"\"\"\n",
    "        pass\n",
    "    "
   ]
  },
  {
   "cell_type": "code",
   "execution_count": null,
   "metadata": {
    "collapsed": false
   },
   "outputs": [],
   "source": [
    "class AbstractParameterEstimator(object):\n",
    "    __metaclass__ = ABCMeta\n",
    "    \n",
    "    @abstractproperty\n",
    "    def system_model(self):\n",
    "        pass\n",
    "    \n",
    "    @abstractproperty\n",
    "    def orthogonal_system_model(self):\n",
    "        pass\n",
    "    \n",
    "    @abstractproperty\n",
    "    def initial_prior(self):\n",
    "        pass\n",
    "    \n",
    "    @abstractproperty \n",
    "    def previous_prior(self):\n",
    "        pass\n",
    "    \n",
    "    @abstractproperty \n",
    "    def likelihood_distribution(self):\n",
    "        pass\n",
    "    \n",
    "    @abstractmethod \n",
    "    def likelihood(self,data,scaling_parameters,system_parameters):\n",
    "        \"\"\"\n",
    "        data should be a Nxm array, where N is the number of data samples, and m is the number of values per sample\n",
    "        \"\"\"\n",
    "        pass\n",
    "    \n",
    "    @abstractmethod\n",
    "    def expected_scaling_parameters(self):\n",
    "        pass\n",
    "    \n",
    "    @abstractmethod \n",
    "    def expected_system_parameters(self):\n",
    "        pass\n",
    "    \n",
    "    @abstractmethod\n",
    "    def expected_noise_parameters(self):\n",
    "        pass\n",
    "    \n",
    "    @abstractmethod\n",
    "    def add_data(self,data):\n",
    "        \"\"\"\n",
    "        Account for new information (data) and update likelihoods/ distributions\n",
    "        \"\"\"\n",
    "        pass\n",
    "    \n",
    "    @abstractmethod\n",
    "    def simulate_data(self,scaling_parameters,system_parameters,noise_parameters):\n",
    "        pass\n",
    "    \n",
    "    "
   ]
  },
  {
   "cell_type": "code",
   "execution_count": null,
   "metadata": {
    "collapsed": false
   },
   "outputs": [],
   "source": [
    "def GaussianNoiseParameterEstimator(AbstractParameterEstimator):\n",
    "    \n",
    "    def __init__(self,system_model,noise_rms=None):\n",
    "        self._system_model = system_model\n",
    "        \n",
    "    \n",
    "    @property \n",
    "    def system_model(self):\n",
    "        return self._system_model\n",
    "    \n",
    "    "
   ]
  },
  {
   "cell_type": "code",
   "execution_count": null,
   "metadata": {
    "collapsed": true
   },
   "outputs": [],
   "source": [
    "class OrthonormalizedModel(OrthonormalizableSystemModel):  \n",
    "    \n",
    "    \n",
    "    def __init__(self,parent_model,data):\n",
    "        self._parent_model = parent_model\n",
    "        self._data = data \n",
    "        \n",
    "        \n",
    "        super(OrthonormalizableSystemModel,self).__init__()\n",
    "        \n",
    "    @property\n",
    "    def parent_model(self):\n",
    "        return self._parent_model\n",
    "    \n",
    "    @property\n",
    "    def data(self):\n",
    "        return self._data\n",
    "   \n",
    "    @property \n",
    "    def root_parent_model(self):\n",
    "        \"\"\"\n",
    "        Traverses linked list formed by parent models, \n",
    "        to find the root OrthonormalizableSystemModel\n",
    "        \"\"\"\n",
    "        child = self\n",
    "        while isinstance(child,OrthonormalizedModel):\n",
    "            parent = self.parent_model\n",
    "            child = parent\n",
    "        return child \n",
    "        \n",
    "    def recover_amplitudes(self,orthonormalized_amplitudes):\n",
    "        pass\n",
    "    \n",
    "    def recover_root_amplitudes(self,orthonormalized_amplitudes):\n",
    "        \"\"\"\n",
    "        Traverses linked list formed by parent models, \n",
    "        to find the root original amplitudes in terms of \n",
    "        the orthonormalized amplitudes\n",
    "        \"\"\"\n",
    "        \n",
    "        child = self\n",
    "        while isinstance(child,OrthonormalizedModel):\n",
    "            orthonormalized_amplitudes = child.recover_amplitudes(orthonormalized_amplitudes)\n",
    "            parent = self.parent_model\n",
    "            child = parent\n",
    "        \n",
    "        return orthonormalized_amplitudes\n",
    "        \n",
    "        "
   ]
  },
  {
   "cell_type": "code",
   "execution_count": null,
   "metadata": {
    "collapsed": true
   },
   "outputs": [],
   "source": []
  }
 ],
 "metadata": {
  "kernelspec": {
   "display_name": "Python 2",
   "language": "python",
   "name": "python2"
  },
  "language_info": {
   "codemirror_mode": {
    "name": "ipython",
    "version": 2
   },
   "file_extension": ".py",
   "mimetype": "text/x-python",
   "name": "python",
   "nbconvert_exporter": "python",
   "pygments_lexer": "ipython2",
   "version": "2.7.6"
  }
 },
 "nbformat": 4,
 "nbformat_minor": 0
}
